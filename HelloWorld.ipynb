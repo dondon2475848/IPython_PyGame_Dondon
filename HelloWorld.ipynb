{
 "cells": [
  {
   "cell_type": "code",
   "execution_count": 1,
   "metadata": {
    "collapsed": true
   },
   "outputs": [],
   "source": [
    "import pygame\n",
    "\n",
    "pygame.init()\n",
    "screen = pygame.display.set_mode((640, 480))\n",
    "clock = pygame.time.Clock()\n",
    "done = False\n",
    "\n",
    "font = pygame.font.SysFont(\"comicsansms\", 72)\n",
    "\n",
    "text = font.render(\"Hello, World\", True, (0, 128, 0))\n",
    "\n",
    "while not done:\n",
    "    for event in pygame.event.get():\n",
    "        if event.type == pygame.QUIT:\n",
    "            done = True\n",
    "        if event.type == pygame.KEYDOWN and event.key == pygame.K_ESCAPE:\n",
    "            done = True\n",
    "    \n",
    "    screen.fill((255, 255, 255))\n",
    "    screen.blit(text,\n",
    "        (320 - text.get_width() // 2, 240 - text.get_height() // 2))\n",
    "    \n",
    "    pygame.display.flip()\n",
    "    clock.tick(60)"
   ]
  },
  {
   "cell_type": "code",
   "execution_count": null,
   "metadata": {
    "collapsed": true
   },
   "outputs": [],
   "source": []
  }
 ],
 "metadata": {
  "kernelspec": {
   "display_name": "Python 2",
   "language": "python",
   "name": "python2"
  },
  "language_info": {
   "codemirror_mode": {
    "name": "ipython",
    "version": 2
   },
   "file_extension": ".py",
   "mimetype": "text/x-python",
   "name": "python",
   "nbconvert_exporter": "python",
   "pygments_lexer": "ipython2",
   "version": "2.7.11"
  }
 },
 "nbformat": 4,
 "nbformat_minor": 0
}
