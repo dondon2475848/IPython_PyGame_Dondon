{
 "cells": [
  {
   "cell_type": "code",
   "execution_count": 28,
   "metadata": {
    "collapsed": false
   },
   "outputs": [
    {
     "name": "stdout",
     "output_type": "stream",
     "text": [
      "2027\n"
     ]
    }
   ],
   "source": [
    "import json\n",
    "\n",
    "wordList=[]\n",
    "with open('./wordChain_data/fooddict _2027.txt','r') as f:\n",
    "    while True:\n",
    "        line=f.readline()\n",
    "        if not line:\n",
    "            break\n",
    "        newWord=line.split(' ')[0]\n",
    "        wordList.append(newWord)\n",
    "    f.close()\n",
    "\n",
    "print len(wordList)\n",
    "\n",
    "with open('./wordChain_data/wordList.josn','w') as f:\n",
    "    json.dump(wordList,f)"
   ]
  },
  {
   "cell_type": "code",
   "execution_count": null,
   "metadata": {
    "collapsed": false
   },
   "outputs": [],
   "source": [
    "import json,os\n",
    "DATA_DIR = \"./wordChain_data/\"\n",
    "wordList=[]\n",
    "for filename in os.listdir(DATA_DIR):\n",
    "    print \"Loading: %s\" % filename\n",
    "\n",
    "    with open(DATA_DIR+filename,'r') as f:\n",
    "        while True:\n",
    "            line=f.readline()\n",
    "            if not line:\n",
    "                break\n",
    "            newWord=line.split(' ')[0]\n",
    "            wordList.append(newWord.decode('utf-8'))\n",
    "        f.close()\n",
    "\n",
    "    print len(wordList)\n",
    "\n",
    "with open('./wordChain_data/wordList.josn','w') as f:\n",
    "        json.dump(wordList,f)"
   ]
  },
  {
   "cell_type": "code",
   "execution_count": 20,
   "metadata": {
    "collapsed": false
   },
   "outputs": [
    {
     "name": "stdout",
     "output_type": "stream",
     "text": [
      "麵條魚\n",
      "599865\n"
     ]
    }
   ],
   "source": [
    "print wordList[9]\n",
    "for u in wordList:\n",
    "    if len(u.decode('utf-8'))==0:\n",
    "        wordList.remove(u.decode('utf-8'))\n",
    "print len(wordList)"
   ]
  },
  {
   "cell_type": "code",
   "execution_count": null,
   "metadata": {
    "collapsed": false
   },
   "outputs": [
    {
     "name": "stdout",
     "output_type": "stream",
     "text": [
      "Enter your input: 郭台銘\n",
      "I :  郭台銘\n",
      "\n",
      "PC :  銘傳商專\n",
      "Enter your input: 專業\n",
      "I :  專業\n",
      "\n",
      "PC :  業務部門\n"
     ]
    }
   ],
   "source": [
    "import json\n",
    "#textList=[u\"火車\",u\"火雞\",u\"雞翅\",u\"車子\",u\"子孫\",u\"孫女\",u\"女生\",u\"生孩子\"]\n",
    "with open('./wordChain_data/wordList.josn','r') as f:\n",
    "    textList=json.load(f)\n",
    "textSet=set(textList)\n",
    "count=0\n",
    "while True:\n",
    "    str = raw_input(u\"Enter your input: \").decode('utf-8')\n",
    "    print \"I : \", str  \n",
    "    #當輸入exit時終止迴圈\n",
    "    if str=='exit':\n",
    "        break\n",
    "    if count != 0:\n",
    "        IFirstChar=str[0]\n",
    "        if IFirstChar!= computerStr[len(computerStr)-1]:\n",
    "            while True:\n",
    "                print \"你接錯詞了！\"\n",
    "                print \"PC : \", computerStr\n",
    "                str = raw_input(\"Enter your input: \").decode('utf-8')\n",
    "                print \"I : \", str  \n",
    "                IFirstChar=str[0]\n",
    "                if IFirstChar == computerStr[len(computerStr)-1]:\n",
    "                    break\n",
    "    else:\n",
    "        count+=1\n",
    "\n",
    "    for u in textSet:\n",
    "        computerStr=\"\"\n",
    "#        uFirstChar=u[0]\n",
    "        try:\n",
    "            uFirstChar=u[0]\n",
    "        except:\n",
    "            print u\n",
    "        if uFirstChar== str[len(str)-1]:\n",
    "            computerStr=u\n",
    "            textSet.remove(computerStr)\n",
    "            print \"PC : \", computerStr\n",
    "            break\n",
    "\n",
    "    if computerStr==\"\":\n",
    "        print \"C : \",\"哼，你贏了\"\n",
    "        break\n",
    "    "
   ]
  },
  {
   "cell_type": "code",
   "execution_count": null,
   "metadata": {
    "collapsed": true
   },
   "outputs": [],
   "source": []
  },
  {
   "cell_type": "code",
   "execution_count": null,
   "metadata": {
    "collapsed": true
   },
   "outputs": [],
   "source": []
  },
  {
   "cell_type": "code",
   "execution_count": null,
   "metadata": {
    "collapsed": true
   },
   "outputs": [],
   "source": []
  }
 ],
 "metadata": {
  "kernelspec": {
   "display_name": "Python 2",
   "language": "python",
   "name": "python2"
  },
  "language_info": {
   "codemirror_mode": {
    "name": "ipython",
    "version": 2
   },
   "file_extension": ".py",
   "mimetype": "text/x-python",
   "name": "python",
   "nbconvert_exporter": "python",
   "pygments_lexer": "ipython2",
   "version": "2.7.11"
  }
 },
 "nbformat": 4,
 "nbformat_minor": 0
}
