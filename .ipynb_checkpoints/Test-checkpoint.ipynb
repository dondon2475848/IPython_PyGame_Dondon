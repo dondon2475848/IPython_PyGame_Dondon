{
 "cells": [
  {
   "cell_type": "code",
   "execution_count": 1,
   "metadata": {
    "collapsed": true
   },
   "outputs": [],
   "source": [
    "#Import:\n",
    "import pygame"
   ]
  },
  {
   "cell_type": "code",
   "execution_count": 2,
   "metadata": {
    "collapsed": false
   },
   "outputs": [],
   "source": [
    "#DEF:\n",
    "def pygameFont(fontName):\n",
    "    if fontName in pygame.font.get_fonts():\n",
    "        font_name = fontName\n",
    "    else:\n",
    "        font_name = pygame.font.get_default_font()\n",
    "    return font_name\n"
   ]
  },
  {
   "cell_type": "code",
   "execution_count": 10,
   "metadata": {
    "collapsed": false
   },
   "outputs": [
    {
     "ename": "KeyboardInterrupt",
     "evalue": "",
     "output_type": "error",
     "traceback": [
      "\u001b[1;31m---------------------------------------------------------------------------\u001b[0m",
      "\u001b[1;31mKeyboardInterrupt\u001b[0m                         Traceback (most recent call last)",
      "\u001b[1;32m<ipython-input-10-f32cede44ee8>\u001b[0m in \u001b[0;36m<module>\u001b[1;34m()\u001b[0m\n\u001b[0;32m     28\u001b[0m \u001b[1;33m\u001b[0m\u001b[0m\n\u001b[0;32m     29\u001b[0m \u001b[1;32mif\u001b[0m \u001b[0m__name__\u001b[0m \u001b[1;33m==\u001b[0m \u001b[1;34m'__main__'\u001b[0m\u001b[1;33m:\u001b[0m\u001b[1;33m\u001b[0m\u001b[0m\n\u001b[1;32m---> 30\u001b[1;33m     \u001b[0mmain\u001b[0m\u001b[1;33m(\u001b[0m\u001b[1;33m)\u001b[0m\u001b[1;33m\u001b[0m\u001b[0m\n\u001b[0m",
      "\u001b[1;32m<ipython-input-10-f32cede44ee8>\u001b[0m in \u001b[0;36mmain\u001b[1;34m()\u001b[0m\n\u001b[0;32m     22\u001b[0m         \u001b[0mpygame\u001b[0m\u001b[1;33m.\u001b[0m\u001b[0mdisplay\u001b[0m\u001b[1;33m.\u001b[0m\u001b[0mupdate\u001b[0m\u001b[1;33m(\u001b[0m\u001b[1;33m)\u001b[0m\u001b[1;33m\u001b[0m\u001b[0m\n\u001b[0;32m     23\u001b[0m \u001b[1;33m\u001b[0m\u001b[0m\n\u001b[1;32m---> 24\u001b[1;33m         \u001b[0mclock\u001b[0m\u001b[1;33m.\u001b[0m\u001b[0mtick\u001b[0m\u001b[1;33m(\u001b[0m\u001b[1;36m60\u001b[0m\u001b[1;33m)\u001b[0m\u001b[1;33m\u001b[0m\u001b[0m\n\u001b[0m\u001b[0;32m     25\u001b[0m         \u001b[0mpygame\u001b[0m\u001b[1;33m.\u001b[0m\u001b[0mdisplay\u001b[0m\u001b[1;33m.\u001b[0m\u001b[0mflip\u001b[0m\u001b[1;33m(\u001b[0m\u001b[1;33m)\u001b[0m\u001b[1;33m\u001b[0m\u001b[0m\n\u001b[0;32m     26\u001b[0m         \u001b[0mpygame\u001b[0m\u001b[1;33m.\u001b[0m\u001b[0mdraw\u001b[0m\u001b[1;33m.\u001b[0m\u001b[0mrect\u001b[0m\u001b[1;33m(\u001b[0m\u001b[0mscreen\u001b[0m\u001b[1;33m,\u001b[0m \u001b[1;33m(\u001b[0m\u001b[1;36m0\u001b[0m\u001b[1;33m,\u001b[0m \u001b[1;36m128\u001b[0m\u001b[1;33m,\u001b[0m \u001b[1;36m255\u001b[0m\u001b[1;33m)\u001b[0m\u001b[1;33m,\u001b[0m \u001b[0mpygame\u001b[0m\u001b[1;33m.\u001b[0m\u001b[0mRect\u001b[0m\u001b[1;33m(\u001b[0m\u001b[1;36m30\u001b[0m\u001b[1;33m,\u001b[0m \u001b[1;36m30\u001b[0m\u001b[1;33m,\u001b[0m \u001b[1;36m60\u001b[0m\u001b[1;33m,\u001b[0m \u001b[1;36m60\u001b[0m\u001b[1;33m)\u001b[0m\u001b[1;33m)\u001b[0m\u001b[1;33m\u001b[0m\u001b[0m\n",
      "\u001b[1;31mKeyboardInterrupt\u001b[0m: "
     ]
    }
   ],
   "source": [
    "import pygame\n",
    "\n",
    "def main():\n",
    "    pygame.init()\n",
    "\n",
    "    screen = pygame.display.set_mode((800, 600))\n",
    "    pygame.display.set_caption(\"Pygame 第一個遊戲\")\n",
    "    clock = pygame.time.Clock()\n",
    "    \n",
    "\n",
    "    font = pygameFont('droidserif')\n",
    "    \n",
    "    theFont = pygame.font.SysFont(font, 40)\n",
    "\n",
    "    while True:\n",
    "        for e in pygame.event.get():\n",
    "            if e.type == pygame.QUIT:\n",
    "                going = False\n",
    "\n",
    "        screen.fill((0, 0, 0))\n",
    "        screen.blit(theFont.render(str(clock.get_fps()), True, (255, 255, 255)), (10, 10))\n",
    "        pygame.display.update()\n",
    "\n",
    "        clock.tick(60)\n",
    "\n",
    "    pygame.quit()\n",
    "\n",
    "if __name__ == '__main__':\n",
    "    main()"
   ]
  },
  {
   "cell_type": "code",
   "execution_count": 18,
   "metadata": {
    "collapsed": false
   },
   "outputs": [
    {
     "name": "stdout",
     "output_type": "stream",
     "text": [
      "['', u'liberationserif', u'captureit2', u'dejavuserif', u'raleway', u'gargi', u'arplukaihk', u'freemono', u'incisedblack', u'dejavusans', u'freesans', u'khmermondulkiri', u'nanumgothic', u'hvdbodedo', u'ori1uni', u'umepgothicc4', u'umepgothicc5', u'tlwgtypewriter', u'verdana', u'cousine', u'tlwgtypo', u'unpilgi', u'arplukaitw', u'lohitdevanagari', u'consolas', u'kacstoffice', u'droidsanshebrew', u'mrykacstqurn', u'lklug', u'kacstpen', u'liberationsans', u'arplumingtwmbe', u'saab', u'kacstdecorative', u'umepgothics4', u'umepgothics5', u'kacstscreen', u'lohitbengali', u'undotum', u'droidsans', u'takaoexmincho', u'plainblackwide', u'tlwgmono', u'khmeros', u'lohitpunjabi', u'arpluminghk', u'umegothico5', u'rachana', u'daniel', u'rekha', u'danielblack', u'umepgothic', u'impact', u'tinos', u'operatinginstructions', u'kacstposter', u'kedage', u'kacstone', u'droidsansarmenian', u'garuda', u'andalemono', u'abyssinicasil', u'freeserif', u'kacstnaskh', u'arialblack', u'droidsansethiopic', u'plainblack', u'arial', u'droidsansgeorgian', u'loma', u'lobster14', u'umeuigothico5', u'timesnewroman', u'mallige', u'purisa', u'padaukbook', u'takaopgothic', u'kacstart', u'kacsttitle', u'ubuntu', u'kacstqurn', u'lohitgujarati', u'umpush', u'arplukaicn', u'kacstdigital', u'vemana2000', u'umepgothico5', u'kacstbook', u'trebuchetms', u'liberationsansnarrow', u'tlwgtypist', u'embossedblack', u'opensans', u'comicsansms', u'arimo', u'padauk', u'jennasue', u'phetsarathot', u'undinaru', u'webdings', u'meera', u'limelight', u'couriernew', u'norasi', u'khmerossystem', u'ungraphic', u'georgia', u'kacstfarsi', u'captureit', u'lohittamil', u'ubuntumono', u'liberationmono', u'kacsttitlel', u'nanumgothiccoding', u'umepmincho', u'droidsansthai', u'arplumingcn', u'umegothicc5', u'umegothicc4', u'takaopmincho', u'umegothics4', u'droidsansmono', u'muktinarrow', u'ungungseo', u'unbatang', u'takaomincho', u'droidsansfallback', u'arplumingtw', u'umeuigothic', u'takaogothic', u'arplukaitwmbe', u'takaoexgothic', u'dejavusansmono', u'kinnari', u'umegothics5', u'droidsansjapanese', u'umegothic', u'waree', u'incisedblackwide', u'umepminchos3', u'embossedblackwide', u'symbolneu', u'umemincho', u'sawasdee', u'pothana2000', u'ubuntucondensed', u'nanummyeongjo', u'nanumbarungothic', u'tibetanmachineuni', u'droidarabicnaskh', u'umeminchos3', u'droidserif', u'kacstletter']\n"
     ]
    }
   ],
   "source": [
    "# 可選擇的字型有：\n",
    "print  pygame.font.get_fonts()"
   ]
  },
  {
   "cell_type": "code",
   "execution_count": 19,
   "metadata": {
    "collapsed": false
   },
   "outputs": [],
   "source": [
    "import pygame\n",
    "\n",
    "pygame.init()\n",
    "screen = pygame.display.set_mode((400, 300))\n",
    "done = False\n",
    "\n",
    "while not done:\n",
    "    for event in pygame.event.get():\n",
    "            if event.type == pygame.QUIT:\n",
    "                    done = True\n",
    "    pygame.display.flip()\n",
    "    pygame.draw.rect(screen, (0, 128, 255), pygame.Rect(30, 30, 60, 60))\n"
   ]
  },
  {
   "cell_type": "code",
   "execution_count": 21,
   "metadata": {
    "collapsed": false
   },
   "outputs": [],
   "source": [
    "import pygame\n",
    "from pygame.locals import *\n",
    " \n",
    "class App:\n",
    "    def __init__(self):\n",
    "        self._running = True\n",
    "        self._display_surf = None\n",
    "        self._image_surf = None\n",
    " \n",
    "    def on_init(self):\n",
    "        pygame.init()\n",
    "        self._display_surf = pygame.display.set_mode((350,350), pygame.HWSURFACE)\n",
    "        self._running = True\n",
    "        self._image_surf = pygame.image.load(\"myimage.jpg\").convert()\n",
    " \n",
    "    def on_event(self, event):\n",
    "        if event.type == QUIT:\n",
    "            self._running = False\n",
    "    def on_loop(self):\n",
    "        pass\n",
    "    def on_render(self):\n",
    "        self._display_surf.blit(self._image_surf,(0,0))\n",
    "        pygame.display.flip()\n",
    " \n",
    "    def on_cleanup(self):\n",
    "        pygame.quit()\n",
    " \n",
    "    def on_execute(self):\n",
    "        if self.on_init() == False:\n",
    "            self._running = False\n",
    " \n",
    "        while( self._running ):\n",
    "            for event in pygame.event.get():\n",
    "                self.on_event(event)\n",
    "            self.on_loop()\n",
    "            self.on_render()\n",
    "        self.on_cleanup()\n",
    " \n",
    "if __name__ == \"__main__\" :\n",
    "    theApp = App()\n",
    "    theApp.on_execute()"
   ]
  },
  {
   "cell_type": "code",
   "execution_count": 1,
   "metadata": {
    "collapsed": true
   },
   "outputs": [
    {
     "ename": "TypeError",
     "evalue": "integer argument expected, got float",
     "output_type": "error",
     "traceback": [
      "\u001b[1;31m---------------------------------------------------------------------------\u001b[0m",
      "\u001b[1;31mTypeError\u001b[0m                                 Traceback (most recent call last)",
      "\u001b[1;32m<ipython-input-1-97d9decf3f23>\u001b[0m in \u001b[0;36m<module>\u001b[1;34m()\u001b[0m\n\u001b[0;32m     86\u001b[0m         \u001b[0mpygame\u001b[0m\u001b[1;33m.\u001b[0m\u001b[0mdraw\u001b[0m\u001b[1;33m.\u001b[0m\u001b[0mcircle\u001b[0m\u001b[1;33m(\u001b[0m\u001b[0mscreen\u001b[0m\u001b[1;33m,\u001b[0m \u001b[0mcolor\u001b[0m\u001b[1;33m,\u001b[0m \u001b[1;33m(\u001b[0m\u001b[0mx\u001b[0m\u001b[1;33m,\u001b[0m \u001b[0my\u001b[0m\u001b[1;33m)\u001b[0m\u001b[1;33m,\u001b[0m \u001b[0mwidth\u001b[0m\u001b[1;33m)\u001b[0m\u001b[1;33m\u001b[0m\u001b[0m\n\u001b[0;32m     87\u001b[0m \u001b[1;33m\u001b[0m\u001b[0m\n\u001b[1;32m---> 88\u001b[1;33m \u001b[0mmain\u001b[0m\u001b[1;33m(\u001b[0m\u001b[1;33m)\u001b[0m\u001b[1;33m\u001b[0m\u001b[0m\n\u001b[0m",
      "\u001b[1;32m<ipython-input-1-97d9decf3f23>\u001b[0m in \u001b[0;36mmain\u001b[1;34m()\u001b[0m\n\u001b[0;32m     57\u001b[0m         \u001b[0mi\u001b[0m \u001b[1;33m=\u001b[0m \u001b[1;36m0\u001b[0m\u001b[1;33m\u001b[0m\u001b[0m\n\u001b[0;32m     58\u001b[0m         \u001b[1;32mwhile\u001b[0m \u001b[0mi\u001b[0m \u001b[1;33m<\u001b[0m \u001b[0mlen\u001b[0m\u001b[1;33m(\u001b[0m\u001b[0mpoints\u001b[0m\u001b[1;33m)\u001b[0m \u001b[1;33m-\u001b[0m \u001b[1;36m1\u001b[0m\u001b[1;33m:\u001b[0m\u001b[1;33m\u001b[0m\u001b[0m\n\u001b[1;32m---> 59\u001b[1;33m             \u001b[0mdrawLineBetween\u001b[0m\u001b[1;33m(\u001b[0m\u001b[0mscreen\u001b[0m\u001b[1;33m,\u001b[0m \u001b[0mi\u001b[0m\u001b[1;33m,\u001b[0m \u001b[0mpoints\u001b[0m\u001b[1;33m[\u001b[0m\u001b[0mi\u001b[0m\u001b[1;33m]\u001b[0m\u001b[1;33m,\u001b[0m \u001b[0mpoints\u001b[0m\u001b[1;33m[\u001b[0m\u001b[0mi\u001b[0m \u001b[1;33m+\u001b[0m \u001b[1;36m1\u001b[0m\u001b[1;33m]\u001b[0m\u001b[1;33m,\u001b[0m \u001b[0mradius\u001b[0m\u001b[1;33m,\u001b[0m \u001b[0mmode\u001b[0m\u001b[1;33m)\u001b[0m\u001b[1;33m\u001b[0m\u001b[0m\n\u001b[0m\u001b[0;32m     60\u001b[0m             \u001b[0mi\u001b[0m \u001b[1;33m+=\u001b[0m \u001b[1;36m1\u001b[0m\u001b[1;33m\u001b[0m\u001b[0m\n\u001b[0;32m     61\u001b[0m \u001b[1;33m\u001b[0m\u001b[0m\n",
      "\u001b[1;32m<ipython-input-1-97d9decf3f23>\u001b[0m in \u001b[0;36mdrawLineBetween\u001b[1;34m(screen, index, start, end, width, color_mode)\u001b[0m\n\u001b[0;32m     84\u001b[0m         \u001b[0mx\u001b[0m \u001b[1;33m=\u001b[0m \u001b[0maprogress\u001b[0m \u001b[1;33m*\u001b[0m \u001b[0mstart\u001b[0m\u001b[1;33m[\u001b[0m\u001b[1;36m0\u001b[0m\u001b[1;33m]\u001b[0m \u001b[1;33m+\u001b[0m \u001b[0mprogress\u001b[0m \u001b[1;33m*\u001b[0m \u001b[0mend\u001b[0m\u001b[1;33m[\u001b[0m\u001b[1;36m0\u001b[0m\u001b[1;33m]\u001b[0m\u001b[1;33m\u001b[0m\u001b[0m\n\u001b[0;32m     85\u001b[0m         \u001b[0my\u001b[0m \u001b[1;33m=\u001b[0m \u001b[0maprogress\u001b[0m \u001b[1;33m*\u001b[0m \u001b[0mstart\u001b[0m\u001b[1;33m[\u001b[0m\u001b[1;36m1\u001b[0m\u001b[1;33m]\u001b[0m \u001b[1;33m+\u001b[0m \u001b[0mprogress\u001b[0m \u001b[1;33m*\u001b[0m \u001b[0mend\u001b[0m\u001b[1;33m[\u001b[0m\u001b[1;36m1\u001b[0m\u001b[1;33m]\u001b[0m\u001b[1;33m\u001b[0m\u001b[0m\n\u001b[1;32m---> 86\u001b[1;33m         \u001b[0mpygame\u001b[0m\u001b[1;33m.\u001b[0m\u001b[0mdraw\u001b[0m\u001b[1;33m.\u001b[0m\u001b[0mcircle\u001b[0m\u001b[1;33m(\u001b[0m\u001b[0mscreen\u001b[0m\u001b[1;33m,\u001b[0m \u001b[0mcolor\u001b[0m\u001b[1;33m,\u001b[0m \u001b[1;33m(\u001b[0m\u001b[0mx\u001b[0m\u001b[1;33m,\u001b[0m \u001b[0my\u001b[0m\u001b[1;33m)\u001b[0m\u001b[1;33m,\u001b[0m \u001b[0mwidth\u001b[0m\u001b[1;33m)\u001b[0m\u001b[1;33m\u001b[0m\u001b[0m\n\u001b[0m\u001b[0;32m     87\u001b[0m \u001b[1;33m\u001b[0m\u001b[0m\n\u001b[0;32m     88\u001b[0m \u001b[0mmain\u001b[0m\u001b[1;33m(\u001b[0m\u001b[1;33m)\u001b[0m\u001b[1;33m\u001b[0m\u001b[0m\n",
      "\u001b[1;31mTypeError\u001b[0m: integer argument expected, got float"
     ]
    }
   ],
   "source": [
    "import pygame\n",
    "\n",
    "def main():\n",
    "    pygame.init()\n",
    "    screen = pygame.display.set_mode((640, 480))\n",
    "    clock = pygame.time.Clock()\n",
    "    \n",
    "    radius = 15\n",
    "    x = 0\n",
    "    y = 0\n",
    "    mode = 'blue'\n",
    "    points = []\n",
    "    \n",
    "    while True:\n",
    "        \n",
    "        pressed = pygame.key.get_pressed()\n",
    "        \n",
    "        alt_held = pressed[pygame.K_LALT] or pressed[pygame.K_RALT]\n",
    "        ctrl_held = pressed[pygame.K_LCTRL] or pressed[pygame.K_RCTRL]\n",
    "        \n",
    "        for event in pygame.event.get():\n",
    "            \n",
    "            # determin if X was clicked, or Ctrl+W or Alt+F4 was used \n",
    "            if event.type == pygame.QUIT:\n",
    "                return\n",
    "            if event.type == pygame.KEYDOWN:\n",
    "                if event.key == pygame.K_w and ctrl_held:\n",
    "                    return\n",
    "                if event.key == pygame.K_F4 and alt_held:\n",
    "                    return\n",
    "                if event.key == pygame.K_ESCAPE:\n",
    "                    return\n",
    "            \n",
    "                # determine if a letter key was pressed \n",
    "                if event.key == pygame.K_r:\n",
    "                    mode = 'red'\n",
    "                elif event.key == pygame.K_g:\n",
    "                    mode = 'green'\n",
    "                elif event.key == pygame.K_b:\n",
    "                    mode = 'blue'\n",
    "            \n",
    "            if event.type == pygame.MOUSEBUTTONDOWN:\n",
    "                if event.button == 1: # left click grows radius \n",
    "                    radius = min(200, radius + 1)\n",
    "                elif event.button == 3: # right click shrinks radius \n",
    "                    radius = max(1, radius - 1)\n",
    "            \n",
    "            if event.type == pygame.MOUSEMOTION:\n",
    "                # if mouse moved, add point to list \n",
    "                position = event.pos\n",
    "                points = points + [position]\n",
    "                points = points[-256:]\n",
    "                \n",
    "        screen.fill((0, 0, 0))\n",
    "        \n",
    "        # draw all points \n",
    "        i = 0\n",
    "        while i < len(points) - 1:\n",
    "            drawLineBetween(screen, i, points[i], points[i + 1], radius, mode)\n",
    "            i += 1\n",
    "        \n",
    "        pygame.display.flip()\n",
    "        \n",
    "        clock.tick(60)\n",
    "\n",
    "def drawLineBetween(screen, index, start, end, width, color_mode):\n",
    "    c1 = max(0, min(255, 2 * index - 256))\n",
    "    c2 = max(0, min(255, 2 * index))\n",
    "    \n",
    "    if color_mode == 'blue':\n",
    "        color = (c1, c1, c2)\n",
    "    elif color_mode == 'red':\n",
    "        color = (c2, c1, c1)\n",
    "    elif color_mode == 'green':\n",
    "        color = (c1, c2, c1)\n",
    "    \n",
    "    dx = start[0] - end[0]\n",
    "    dy = start[1] - end[1]\n",
    "    iterations = max(abs(dx), abs(dy))\n",
    "    \n",
    "    for i in xrange(iterations):\n",
    "        progress = 1.0 * i / iterations\n",
    "        aprogress = 1 - progress\n",
    "        x = aprogress * start[0] + progress * end[0]\n",
    "        y = aprogress * start[1] + progress * end[1]\n",
    "        pygame.draw.circle(screen, color, (x, y), width)\n",
    "\n",
    "main()"
   ]
  },
  {
   "cell_type": "code",
   "execution_count": 1,
   "metadata": {
    "collapsed": true
   },
   "outputs": [
    {
     "ename": "error",
     "evalue": "video system not initialized",
     "output_type": "error",
     "traceback": [
      "\u001b[1;31m---------------------------------------------------------------------------\u001b[0m",
      "\u001b[1;31merror\u001b[0m                                     Traceback (most recent call last)",
      "\u001b[1;32m<ipython-input-1-076158541b61>\u001b[0m in \u001b[0;36m<module>\u001b[1;34m()\u001b[0m\n\u001b[0;32m      3\u001b[0m \u001b[0mpygame\u001b[0m\u001b[1;33m.\u001b[0m\u001b[0mdisplay\u001b[0m\u001b[1;33m.\u001b[0m\u001b[0mset_mode\u001b[0m\u001b[1;33m(\u001b[0m\u001b[1;33m)\u001b[0m\u001b[1;33m\u001b[0m\u001b[0m\n\u001b[0;32m      4\u001b[0m \u001b[1;32mwhile\u001b[0m \u001b[0mTrue\u001b[0m\u001b[1;33m:\u001b[0m\u001b[1;33m\u001b[0m\u001b[0m\n\u001b[1;32m----> 5\u001b[1;33m     \u001b[1;32mfor\u001b[0m \u001b[0mevent\u001b[0m \u001b[1;32min\u001b[0m \u001b[0mpygame\u001b[0m\u001b[1;33m.\u001b[0m\u001b[0mevent\u001b[0m\u001b[1;33m.\u001b[0m\u001b[0mget\u001b[0m\u001b[1;33m(\u001b[0m\u001b[1;33m)\u001b[0m\u001b[1;33m:\u001b[0m\u001b[1;33m\u001b[0m\u001b[0m\n\u001b[0m\u001b[0;32m      6\u001b[0m         \u001b[1;32mif\u001b[0m \u001b[0mevent\u001b[0m\u001b[1;33m.\u001b[0m\u001b[0mtype\u001b[0m \u001b[1;33m==\u001b[0m \u001b[0mpygame\u001b[0m\u001b[1;33m.\u001b[0m\u001b[0mQUIT\u001b[0m\u001b[1;33m:\u001b[0m\u001b[1;33m\u001b[0m\u001b[0m\n\u001b[0;32m      7\u001b[0m             \u001b[0mpygame\u001b[0m\u001b[1;33m.\u001b[0m\u001b[0mquit\u001b[0m\u001b[1;33m(\u001b[0m\u001b[1;33m)\u001b[0m\u001b[1;33m;\u001b[0m \u001b[1;31m#sys.exit() if sys is imported\u001b[0m\u001b[1;33m\u001b[0m\u001b[0m\n",
      "\u001b[1;31merror\u001b[0m: video system not initialized"
     ]
    }
   ],
   "source": [
    "import pygame\n",
    "pygame.init()\n",
    "pygame.display.set_mode()\n",
    "while True:\n",
    "    for event in pygame.event.get():\n",
    "        if event.type == pygame.QUIT:\n",
    "            pygame.quit(); #sys.exit() if sys is imported\n",
    "        if event.type == pygame.KEYDOWN:\n",
    "            if event.key == pygame.K_0:\n",
    "                print(\"Hey, you pressed the key, '0'!\")\n",
    "            if event.key == pygame.K_1:\n",
    "                print(\"Doing whatever\")"
   ]
  },
  {
   "cell_type": "code",
   "execution_count": 1,
   "metadata": {
    "collapsed": true
   },
   "outputs": [],
   "source": [
    "# Display keyboard input using pygame.  Only prints letters (no numbers\n",
    "# or special chars).  Backspace deletes one character.  Return clears\n",
    "# the entire input.\n",
    "#\n",
    "# Run with the following command:\n",
    "#   python pygame-display-input.py\n",
    " \n",
    "import pygame\n",
    "from pygame.locals import *\n",
    " \n",
    "def name():\n",
    "    pygame.init()\n",
    "    screen = pygame.display.set_mode((480, 360))\n",
    "    name = \"\"\n",
    "    font = pygame.font.Font(None, 50)\n",
    "    while True:\n",
    "        for evt in pygame.event.get():\n",
    "            if evt.type == KEYDOWN:\n",
    "                if evt.unicode.isalpha():\n",
    "                    name += evt.unicode\n",
    "                elif evt.key == K_BACKSPACE:\n",
    "                    name = name[:-1]\n",
    "                elif evt.key == K_RETURN:\n",
    "                    name = \"\"\n",
    "            elif evt.type == QUIT:\n",
    "                return\n",
    "        screen.fill ((0, 0, 0))\n",
    "        block = font.render(name, True, (255, 255, 255))\n",
    "        rect = block.get_rect()\n",
    "        rect.center = screen.get_rect().center\n",
    "        screen.blit(block, rect)\n",
    "        pygame.display.flip()\n",
    " \n",
    "if __name__ == \"__main__\":\n",
    "    name()"
   ]
  },
  {
   "cell_type": "code",
   "execution_count": null,
   "metadata": {
    "collapsed": true
   },
   "outputs": [],
   "source": []
  }
 ],
 "metadata": {
  "kernelspec": {
   "display_name": "Python 2",
   "language": "python",
   "name": "python2"
  },
  "language_info": {
   "codemirror_mode": {
    "name": "ipython",
    "version": 2
   },
   "file_extension": ".py",
   "mimetype": "text/x-python",
   "name": "python",
   "nbconvert_exporter": "python",
   "pygments_lexer": "ipython2",
   "version": "2.7.11"
  }
 },
 "nbformat": 4,
 "nbformat_minor": 0
}
